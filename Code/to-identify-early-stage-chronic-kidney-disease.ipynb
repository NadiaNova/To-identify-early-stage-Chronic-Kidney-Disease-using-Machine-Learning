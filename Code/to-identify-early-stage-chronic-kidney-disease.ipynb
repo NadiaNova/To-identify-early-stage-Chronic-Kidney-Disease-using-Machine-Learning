{
 "cells": [
  {
   "cell_type": "code",
   "execution_count": 1,
   "id": "e83ecad7",
   "metadata": {
    "_cell_guid": "b1076dfc-b9ad-4769-8c92-a6c4dae69d19",
    "_uuid": "8f2839f25d086af736a60e9eeb907d3b93b6e0e5",
    "execution": {
     "iopub.execute_input": "2023-11-02T07:42:37.126589Z",
     "iopub.status.busy": "2023-11-02T07:42:37.126155Z",
     "iopub.status.idle": "2023-11-02T07:42:37.569526Z",
     "shell.execute_reply": "2023-11-02T07:42:37.567986Z"
    },
    "papermill": {
     "duration": 0.457619,
     "end_time": "2023-11-02T07:42:37.572702",
     "exception": false,
     "start_time": "2023-11-02T07:42:37.115083",
     "status": "completed"
    },
    "tags": []
   },
   "outputs": [
    {
     "name": "stdout",
     "output_type": "stream",
     "text": [
      "/kaggle/input/chronic-kidney-disease/new_model.csv\n"
     ]
    }
   ],
   "source": [
    "# This Python 3 environment comes with many helpful analytics libraries installed\n",
    "# It is defined by the kaggle/python Docker image: https://github.com/kaggle/docker-python\n",
    "# For example, here's several helpful packages to load\n",
    "\n",
    "import numpy as np # linear algebra\n",
    "import pandas as pd # data processing, CSV file I/O (e.g. pd.read_csv)\n",
    "\n",
    "# Input data files are available in the read-only \"../input/\" directory\n",
    "# For example, running this (by clicking run or pressing Shift+Enter) will list all files under the input directory\n",
    "\n",
    "import os\n",
    "for dirname, _, filenames in os.walk('/kaggle/input'):\n",
    "    for filename in filenames:\n",
    "        print(os.path.join(dirname, filename))\n",
    "\n",
    "# You can write up to 20GB to the current directory (/kaggle/working/) that gets preserved as output when you create a version using \"Save & Run All\" \n",
    "# You can also write temporary files to /kaggle/temp/, but they won't be saved outside of the current session"
   ]
  },
  {
   "cell_type": "markdown",
   "id": "b666edfb",
   "metadata": {
    "papermill": {
     "duration": 0.008868,
     "end_time": "2023-11-02T07:42:37.590482",
     "exception": false,
     "start_time": "2023-11-02T07:42:37.581614",
     "status": "completed"
    },
    "tags": []
   },
   "source": [
    "Chronic kidney disease (CKD) is a common, potentially fatal illness that has a significant effect on general health. For successful intervention and therapy, patients with early-stage CKD must be promptly identified. Using a publicly available CKD dataset, this study uses machine learning techniques to categorize people as having early-stage CKD or not.\n",
    "\n",
    "Data preprocessing, which includes handling missing values, encoding categorical variables, and standardizing features, is where the project starts. We train and assess three different machine learning algorithms: Random Forest, Support Vector Machine (SVM), and Naive Bayes. Metrics including accuracy, precision, recall, and the area under the precision-recall curve are used to evaluate these models' performance.\n",
    "\n",
    "Project observations show that the Random Forest classifier produces excellent outcomes with a high accuracy rate. The project does, however, point out a number of areas that could use work, including feature engineering, data augmentation, and resolving class imbalance. Suggestions are offered to improve the performance of the classification model."
   ]
  },
  {
   "cell_type": "markdown",
   "id": "85b82eb1",
   "metadata": {
    "papermill": {
     "duration": 0.008151,
     "end_time": "2023-11-02T07:42:37.607554",
     "exception": false,
     "start_time": "2023-11-02T07:42:37.599403",
     "status": "completed"
    },
    "tags": []
   },
   "source": [
    "# **Step 1: Importing the libraries and loading the dataset**"
   ]
  },
  {
   "cell_type": "code",
   "execution_count": 2,
   "id": "c87e4bd9",
   "metadata": {
    "execution": {
     "iopub.execute_input": "2023-11-02T07:42:37.626621Z",
     "iopub.status.busy": "2023-11-02T07:42:37.626047Z",
     "iopub.status.idle": "2023-11-02T07:42:40.026645Z",
     "shell.execute_reply": "2023-11-02T07:42:40.025448Z"
    },
    "papermill": {
     "duration": 2.413481,
     "end_time": "2023-11-02T07:42:40.029549",
     "exception": false,
     "start_time": "2023-11-02T07:42:37.616068",
     "status": "completed"
    },
    "tags": []
   },
   "outputs": [],
   "source": [
    "# Import required libraries\n",
    "import numpy as np\n",
    "import pandas as pd\n",
    "import matplotlib.pyplot as plt\n",
    "import seaborn as sns\n",
    "from sklearn.model_selection import train_test_split\n",
    "from sklearn.preprocessing import LabelEncoder, StandardScaler\n",
    "from sklearn.metrics import accuracy_score, confusion_matrix, classification_report\n",
    "# Precision-Recall Curves (for Random Forest Classifier)\n",
    "#from sklearn.metrics import precision_recall_curve\n",
    "from sklearn.ensemble import RandomForestClassifier\n",
    "from sklearn.svm import SVC\n",
    "from sklearn.naive_bayes import GaussianNB"
   ]
  },
  {
   "cell_type": "code",
   "execution_count": 3,
   "id": "34a08f76",
   "metadata": {
    "execution": {
     "iopub.execute_input": "2023-11-02T07:42:40.048761Z",
     "iopub.status.busy": "2023-11-02T07:42:40.048284Z",
     "iopub.status.idle": "2023-11-02T07:42:40.066632Z",
     "shell.execute_reply": "2023-11-02T07:42:40.065620Z"
    },
    "papermill": {
     "duration": 0.031263,
     "end_time": "2023-11-02T07:42:40.069508",
     "exception": false,
     "start_time": "2023-11-02T07:42:40.038245",
     "status": "completed"
    },
    "tags": []
   },
   "outputs": [],
   "source": [
    "# Load the dataset\n",
    "df = pd.read_csv('/kaggle/input/chronic-kidney-disease/new_model.csv' )"
   ]
  },
  {
   "cell_type": "markdown",
   "id": "900db5eb",
   "metadata": {
    "papermill": {
     "duration": 0.008098,
     "end_time": "2023-11-02T07:42:40.086104",
     "exception": false,
     "start_time": "2023-11-02T07:42:40.078006",
     "status": "completed"
    },
    "tags": []
   },
   "source": [
    "# **Step 2: Exploring the dataset**"
   ]
  },
  {
   "cell_type": "code",
   "execution_count": 4,
   "id": "f22736da",
   "metadata": {
    "execution": {
     "iopub.execute_input": "2023-11-02T07:42:40.105355Z",
     "iopub.status.busy": "2023-11-02T07:42:40.104545Z",
     "iopub.status.idle": "2023-11-02T07:42:40.168575Z",
     "shell.execute_reply": "2023-11-02T07:42:40.167025Z"
    },
    "papermill": {
     "duration": 0.076905,
     "end_time": "2023-11-02T07:42:40.171514",
     "exception": false,
     "start_time": "2023-11-02T07:42:40.094609",
     "status": "completed"
    },
    "tags": []
   },
   "outputs": [
    {
     "name": "stdout",
     "output_type": "stream",
     "text": [
      "               Bp          Sg          Al          Su         Rbc         Bu  \\\n",
      "count  400.000000  400.000000  400.000000  400.000000  400.000000  400.00000   \n",
      "mean    76.455000    1.017712    1.015000    0.395000    0.882500   57.40550   \n",
      "std     13.476536    0.005434    1.272329    1.040038    0.322418   49.28597   \n",
      "min     50.000000    1.005000    0.000000    0.000000    0.000000    1.50000   \n",
      "25%     70.000000    1.015000    0.000000    0.000000    1.000000   27.00000   \n",
      "50%     78.000000    1.020000    1.000000    0.000000    1.000000   44.00000   \n",
      "75%     80.000000    1.020000    2.000000    0.000000    1.000000   61.75000   \n",
      "max    180.000000    1.025000    5.000000    5.000000    1.000000  391.00000   \n",
      "\n",
      "              Sc         Sod         Pot        Hemo          Wbcc  \\\n",
      "count  400.00000  400.000000  400.000000  400.000000    400.000000   \n",
      "mean     3.07235  137.529025    4.627850   12.526900   8406.090000   \n",
      "std      5.61749    9.204273    2.819783    2.716171   2523.219976   \n",
      "min      0.40000    4.500000    2.500000    3.100000   2200.000000   \n",
      "25%      0.90000  135.000000    4.000000   10.875000   6975.000000   \n",
      "50%      1.40000  137.530000    4.630000   12.530000   8406.000000   \n",
      "75%      3.07000  141.000000    4.800000   14.625000   9400.000000   \n",
      "max     76.00000  163.000000   47.000000   17.800000  26400.000000   \n",
      "\n",
      "             Rbcc         Htn       Class  \n",
      "count  400.000000  400.000000  400.000000  \n",
      "mean     4.708275    0.369350    0.625000  \n",
      "std      0.840315    0.482023    0.484729  \n",
      "min      2.100000    0.000000    0.000000  \n",
      "25%      4.500000    0.000000    0.000000  \n",
      "50%      4.710000    0.000000    1.000000  \n",
      "75%      5.100000    1.000000    1.000000  \n",
      "max      8.000000    1.000000    1.000000  \n"
     ]
    }
   ],
   "source": [
    "# understanding the dataset\n",
    "print(df.describe())"
   ]
  },
  {
   "cell_type": "code",
   "execution_count": 5,
   "id": "d0d11541",
   "metadata": {
    "execution": {
     "iopub.execute_input": "2023-11-02T07:42:40.191158Z",
     "iopub.status.busy": "2023-11-02T07:42:40.190750Z",
     "iopub.status.idle": "2023-11-02T07:42:40.217846Z",
     "shell.execute_reply": "2023-11-02T07:42:40.216603Z"
    },
    "papermill": {
     "duration": 0.039846,
     "end_time": "2023-11-02T07:42:40.220339",
     "exception": false,
     "start_time": "2023-11-02T07:42:40.180493",
     "status": "completed"
    },
    "tags": []
   },
   "outputs": [
    {
     "name": "stdout",
     "output_type": "stream",
     "text": [
      "<class 'pandas.core.frame.DataFrame'>\n",
      "RangeIndex: 400 entries, 0 to 399\n",
      "Data columns (total 14 columns):\n",
      " #   Column  Non-Null Count  Dtype  \n",
      "---  ------  --------------  -----  \n",
      " 0   Bp      400 non-null    float64\n",
      " 1   Sg      400 non-null    float64\n",
      " 2   Al      400 non-null    float64\n",
      " 3   Su      400 non-null    float64\n",
      " 4   Rbc     400 non-null    float64\n",
      " 5   Bu      400 non-null    float64\n",
      " 6   Sc      400 non-null    float64\n",
      " 7   Sod     400 non-null    float64\n",
      " 8   Pot     400 non-null    float64\n",
      " 9   Hemo    400 non-null    float64\n",
      " 10  Wbcc    400 non-null    float64\n",
      " 11  Rbcc    400 non-null    float64\n",
      " 12  Htn     400 non-null    float64\n",
      " 13  Class   400 non-null    int64  \n",
      "dtypes: float64(13), int64(1)\n",
      "memory usage: 43.9 KB\n",
      "None\n"
     ]
    }
   ],
   "source": [
    "print(df.info())"
   ]
  },
  {
   "cell_type": "markdown",
   "id": "19ae870e",
   "metadata": {
    "papermill": {
     "duration": 0.008361,
     "end_time": "2023-11-02T07:42:40.237502",
     "exception": false,
     "start_time": "2023-11-02T07:42:40.229141",
     "status": "completed"
    },
    "tags": []
   },
   "source": [
    "Columns description\n",
    "\n",
    "    Bp - Blood Pressure\n",
    "    Sg - Specific Gravity\n",
    "    Al - Albumin\n",
    "    Su - Sugar\n",
    "    Rbc - Red Blood Cell\n",
    "    Bu - Blood Urea\n",
    "    Sc - Serum Creatinine\n",
    "    Sod - Sodium\n",
    "    Pot - Pottasium\n",
    "    Hemo - Hemoglobin\n",
    "    Wbcc - White Blood Cell Count\n",
    "    Rbcc - Red Blood Cell Count\n",
    "    Htn - Hypertension\n",
    "    Class - Predicted Class"
   ]
  },
  {
   "cell_type": "code",
   "execution_count": 6,
   "id": "e77e801d",
   "metadata": {
    "execution": {
     "iopub.execute_input": "2023-11-02T07:42:40.257541Z",
     "iopub.status.busy": "2023-11-02T07:42:40.256813Z",
     "iopub.status.idle": "2023-11-02T07:42:40.271949Z",
     "shell.execute_reply": "2023-11-02T07:42:40.270363Z"
    },
    "papermill": {
     "duration": 0.028345,
     "end_time": "2023-11-02T07:42:40.274674",
     "exception": false,
     "start_time": "2023-11-02T07:42:40.246329",
     "status": "completed"
    },
    "tags": []
   },
   "outputs": [
    {
     "name": "stdout",
     "output_type": "stream",
     "text": [
      "     Bp     Sg   Al   Su  Rbc    Bu   Sc     Sod   Pot  Hemo    Wbcc  Rbcc  \\\n",
      "0  80.0  1.020  1.0  0.0  1.0  36.0  1.2  137.53  4.63  15.4  7800.0  5.20   \n",
      "1  50.0  1.020  4.0  0.0  1.0  18.0  0.8  137.53  4.63  11.3  6000.0  4.71   \n",
      "2  80.0  1.010  2.0  3.0  1.0  53.0  1.8  137.53  4.63   9.6  7500.0  4.71   \n",
      "3  70.0  1.005  4.0  0.0  1.0  56.0  3.8  111.00  2.50  11.2  6700.0  3.90   \n",
      "4  80.0  1.010  2.0  0.0  1.0  26.0  1.4  137.53  4.63  11.6  7300.0  4.60   \n",
      "\n",
      "   Htn  Class  \n",
      "0  1.0      1  \n",
      "1  0.0      1  \n",
      "2  0.0      1  \n",
      "3  1.0      1  \n",
      "4  0.0      1  \n"
     ]
    }
   ],
   "source": [
    "# Check the data\n",
    "print(df.head())"
   ]
  },
  {
   "cell_type": "code",
   "execution_count": 7,
   "id": "62b1edc9",
   "metadata": {
    "execution": {
     "iopub.execute_input": "2023-11-02T07:42:40.294326Z",
     "iopub.status.busy": "2023-11-02T07:42:40.293937Z",
     "iopub.status.idle": "2023-11-02T07:42:40.299995Z",
     "shell.execute_reply": "2023-11-02T07:42:40.298514Z"
    },
    "papermill": {
     "duration": 0.018875,
     "end_time": "2023-11-02T07:42:40.302468",
     "exception": false,
     "start_time": "2023-11-02T07:42:40.283593",
     "status": "completed"
    },
    "tags": []
   },
   "outputs": [
    {
     "name": "stdout",
     "output_type": "stream",
     "text": [
      "(400, 14)\n"
     ]
    }
   ],
   "source": [
    "# Check the shape of the data\n",
    "print(df.shape)"
   ]
  },
  {
   "cell_type": "markdown",
   "id": "f64479d9",
   "metadata": {
    "papermill": {
     "duration": 0.00908,
     "end_time": "2023-11-02T07:42:40.320593",
     "exception": false,
     "start_time": "2023-11-02T07:42:40.311513",
     "status": "completed"
    },
    "tags": []
   },
   "source": [
    "# **Step 3: Cleaning and Preprocessing the data**"
   ]
  },
  {
   "cell_type": "code",
   "execution_count": 8,
   "id": "6741f56e",
   "metadata": {
    "execution": {
     "iopub.execute_input": "2023-11-02T07:42:40.340349Z",
     "iopub.status.busy": "2023-11-02T07:42:40.339903Z",
     "iopub.status.idle": "2023-11-02T07:42:40.347630Z",
     "shell.execute_reply": "2023-11-02T07:42:40.346265Z"
    },
    "papermill": {
     "duration": 0.020926,
     "end_time": "2023-11-02T07:42:40.350583",
     "exception": false,
     "start_time": "2023-11-02T07:42:40.329657",
     "status": "completed"
    },
    "tags": []
   },
   "outputs": [
    {
     "name": "stdout",
     "output_type": "stream",
     "text": [
      "Bp       0\n",
      "Sg       0\n",
      "Al       0\n",
      "Su       0\n",
      "Rbc      0\n",
      "Bu       0\n",
      "Sc       0\n",
      "Sod      0\n",
      "Pot      0\n",
      "Hemo     0\n",
      "Wbcc     0\n",
      "Rbcc     0\n",
      "Htn      0\n",
      "Class    0\n",
      "dtype: int64\n"
     ]
    }
   ],
   "source": [
    "# Check for missing values\n",
    "print(df.isnull().sum())"
   ]
  },
  {
   "cell_type": "code",
   "execution_count": 9,
   "id": "80a71910",
   "metadata": {
    "execution": {
     "iopub.execute_input": "2023-11-02T07:42:40.372951Z",
     "iopub.status.busy": "2023-11-02T07:42:40.370601Z",
     "iopub.status.idle": "2023-11-02T07:42:40.388239Z",
     "shell.execute_reply": "2023-11-02T07:42:40.386816Z"
    },
    "papermill": {
     "duration": 0.030887,
     "end_time": "2023-11-02T07:42:40.390804",
     "exception": false,
     "start_time": "2023-11-02T07:42:40.359917",
     "status": "completed"
    },
    "tags": []
   },
   "outputs": [
    {
     "data": {
      "text/plain": [
       "0"
      ]
     },
     "execution_count": 9,
     "metadata": {},
     "output_type": "execute_result"
    }
   ],
   "source": [
    "#To check Duplicate values\n",
    "df_duplicates = df[df.duplicated()]\n",
    "df_duplicates.shape[0]"
   ]
  },
  {
   "cell_type": "code",
   "execution_count": 10,
   "id": "1858d10c",
   "metadata": {
    "execution": {
     "iopub.execute_input": "2023-11-02T07:42:40.411965Z",
     "iopub.status.busy": "2023-11-02T07:42:40.410935Z",
     "iopub.status.idle": "2023-11-02T07:42:40.426950Z",
     "shell.execute_reply": "2023-11-02T07:42:40.425461Z"
    },
    "papermill": {
     "duration": 0.029729,
     "end_time": "2023-11-02T07:42:40.429776",
     "exception": false,
     "start_time": "2023-11-02T07:42:40.400047",
     "status": "completed"
    },
    "tags": []
   },
   "outputs": [],
   "source": [
    "# Encode categorical labels\n",
    "le = LabelEncoder()\n",
    "df['classification'] = le.fit_transform(df['Class'])\n",
    "\n",
    "# Split the data into features and target\n",
    "X = df.drop(columns=['classification'])\n",
    "y = df['classification']\n",
    "\n",
    "# Standardize the features\n",
    "scaler = StandardScaler()\n",
    "X = scaler.fit_transform(X)"
   ]
  },
  {
   "cell_type": "markdown",
   "id": "2a803b2d",
   "metadata": {
    "papermill": {
     "duration": 0.008934,
     "end_time": "2023-11-02T07:42:40.448115",
     "exception": false,
     "start_time": "2023-11-02T07:42:40.439181",
     "status": "completed"
    },
    "tags": []
   },
   "source": [
    "# **Step 4: Splitting the dataset into training and test sets**\n"
   ]
  },
  {
   "cell_type": "code",
   "execution_count": 11,
   "id": "0a9ce2bc",
   "metadata": {
    "execution": {
     "iopub.execute_input": "2023-11-02T07:42:40.468114Z",
     "iopub.status.busy": "2023-11-02T07:42:40.467670Z",
     "iopub.status.idle": "2023-11-02T07:42:40.474886Z",
     "shell.execute_reply": "2023-11-02T07:42:40.473686Z"
    },
    "papermill": {
     "duration": 0.020318,
     "end_time": "2023-11-02T07:42:40.477566",
     "exception": false,
     "start_time": "2023-11-02T07:42:40.457248",
     "status": "completed"
    },
    "tags": []
   },
   "outputs": [],
   "source": [
    "X_train, X_test, y_train, y_test = train_test_split(X, y, test_size=0.2, random_state=42)"
   ]
  },
  {
   "cell_type": "markdown",
   "id": "a0b51ab2",
   "metadata": {
    "papermill": {
     "duration": 0.009029,
     "end_time": "2023-11-02T07:42:40.496371",
     "exception": false,
     "start_time": "2023-11-02T07:42:40.487342",
     "status": "completed"
    },
    "tags": []
   },
   "source": [
    "# **Step 5: Training the Model**\n",
    "We will train three different machine learning algorithms for this project: Random Forest, Support Vector Machine (SVM), and Naive Bayes."
   ]
  },
  {
   "cell_type": "markdown",
   "id": "a1cf4e13",
   "metadata": {
    "papermill": {
     "duration": 0.008923,
     "end_time": "2023-11-02T07:42:40.514603",
     "exception": false,
     "start_time": "2023-11-02T07:42:40.505680",
     "status": "completed"
    },
    "tags": []
   },
   "source": [
    "# **Random Forest Classifier**"
   ]
  },
  {
   "cell_type": "code",
   "execution_count": 12,
   "id": "09c97761",
   "metadata": {
    "execution": {
     "iopub.execute_input": "2023-11-02T07:42:40.536482Z",
     "iopub.status.busy": "2023-11-02T07:42:40.535654Z",
     "iopub.status.idle": "2023-11-02T07:42:40.787505Z",
     "shell.execute_reply": "2023-11-02T07:42:40.785846Z"
    },
    "papermill": {
     "duration": 0.266126,
     "end_time": "2023-11-02T07:42:40.790243",
     "exception": false,
     "start_time": "2023-11-02T07:42:40.524117",
     "status": "completed"
    },
    "tags": []
   },
   "outputs": [
    {
     "name": "stdout",
     "output_type": "stream",
     "text": [
      "Random Forest Classifier:\n",
      "Accuracy: 1.00\n",
      "Confusion Matrix:\n",
      "[[28  0]\n",
      " [ 0 52]]\n",
      "Classification Report:\n",
      "              precision    recall  f1-score   support\n",
      "\n",
      "           0       1.00      1.00      1.00        28\n",
      "           1       1.00      1.00      1.00        52\n",
      "\n",
      "    accuracy                           1.00        80\n",
      "   macro avg       1.00      1.00      1.00        80\n",
      "weighted avg       1.00      1.00      1.00        80\n",
      "\n"
     ]
    }
   ],
   "source": [
    "# Train a Random Forest Classifier\n",
    "rf_classifier = RandomForestClassifier(n_estimators=100, random_state=42)\n",
    "rf_classifier.fit(X_train, y_train)\n",
    "y_pred_rf = rf_classifier.predict(X_test)\n",
    "\n",
    "# Evaluate the Random Forest model\n",
    "accuracy_rf = accuracy_score(y_test, y_pred_rf)\n",
    "confusion_rf = confusion_matrix(y_test, y_pred_rf)\n",
    "report_rf = classification_report(y_test, y_pred_rf)\n",
    "\n",
    "print(\"Random Forest Classifier:\")\n",
    "print(f\"Accuracy: {accuracy_rf:.2f}\")\n",
    "print(\"Confusion Matrix:\")\n",
    "print(confusion_rf)\n",
    "print(\"Classification Report:\")\n",
    "print(report_rf)"
   ]
  },
  {
   "cell_type": "markdown",
   "id": "004b0803",
   "metadata": {
    "papermill": {
     "duration": 0.009051,
     "end_time": "2023-11-02T07:42:40.808572",
     "exception": false,
     "start_time": "2023-11-02T07:42:40.799521",
     "status": "completed"
    },
    "tags": []
   },
   "source": [
    "# **Support Vector Machine (SVM)**"
   ]
  },
  {
   "cell_type": "code",
   "execution_count": 13,
   "id": "54abde2d",
   "metadata": {
    "execution": {
     "iopub.execute_input": "2023-11-02T07:42:40.829368Z",
     "iopub.status.busy": "2023-11-02T07:42:40.828680Z",
     "iopub.status.idle": "2023-11-02T07:42:40.851379Z",
     "shell.execute_reply": "2023-11-02T07:42:40.849781Z"
    },
    "papermill": {
     "duration": 0.036181,
     "end_time": "2023-11-02T07:42:40.854169",
     "exception": false,
     "start_time": "2023-11-02T07:42:40.817988",
     "status": "completed"
    },
    "tags": []
   },
   "outputs": [
    {
     "name": "stdout",
     "output_type": "stream",
     "text": [
      "Support Vector Machine (SVM):\n",
      "Accuracy: 1.00\n",
      "Confusion Matrix:\n",
      "[[28  0]\n",
      " [ 0 52]]\n",
      "Classification Report:\n",
      "              precision    recall  f1-score   support\n",
      "\n",
      "           0       1.00      1.00      1.00        28\n",
      "           1       1.00      1.00      1.00        52\n",
      "\n",
      "    accuracy                           1.00        80\n",
      "   macro avg       1.00      1.00      1.00        80\n",
      "weighted avg       1.00      1.00      1.00        80\n",
      "\n"
     ]
    }
   ],
   "source": [
    "# Train a Support Vector Machine (SVM) Classifier\n",
    "svm_classifier = SVC(kernel='linear', C=1)\n",
    "svm_classifier.fit(X_train, y_train)\n",
    "y_pred_svm = svm_classifier.predict(X_test)\n",
    "\n",
    "# Evaluate the SVM model\n",
    "accuracy_svm = accuracy_score(y_test, y_pred_svm)\n",
    "confusion_svm = confusion_matrix(y_test, y_pred_svm)\n",
    "report_svm = classification_report(y_test, y_pred_svm)\n",
    "\n",
    "print(\"Support Vector Machine (SVM):\")\n",
    "print(f\"Accuracy: {accuracy_svm:.2f}\")\n",
    "print(\"Confusion Matrix:\")\n",
    "print(confusion_svm)\n",
    "print(\"Classification Report:\")\n",
    "print(report_svm)"
   ]
  },
  {
   "cell_type": "markdown",
   "id": "d61587ea",
   "metadata": {
    "papermill": {
     "duration": 0.009349,
     "end_time": "2023-11-02T07:42:40.874378",
     "exception": false,
     "start_time": "2023-11-02T07:42:40.865029",
     "status": "completed"
    },
    "tags": []
   },
   "source": [
    "# **Naive Bayes Classifier**"
   ]
  },
  {
   "cell_type": "code",
   "execution_count": 14,
   "id": "cacd5ed2",
   "metadata": {
    "execution": {
     "iopub.execute_input": "2023-11-02T07:42:40.895457Z",
     "iopub.status.busy": "2023-11-02T07:42:40.894996Z",
     "iopub.status.idle": "2023-11-02T07:42:40.918380Z",
     "shell.execute_reply": "2023-11-02T07:42:40.916776Z"
    },
    "papermill": {
     "duration": 0.037401,
     "end_time": "2023-11-02T07:42:40.921366",
     "exception": false,
     "start_time": "2023-11-02T07:42:40.883965",
     "status": "completed"
    },
    "tags": []
   },
   "outputs": [
    {
     "name": "stdout",
     "output_type": "stream",
     "text": [
      "Naive Bayes Classifier:\n",
      "Accuracy: 1.00\n",
      "Confusion Matrix:\n",
      "[[28  0]\n",
      " [ 0 52]]\n",
      "Classification Report:\n",
      "              precision    recall  f1-score   support\n",
      "\n",
      "           0       1.00      1.00      1.00        28\n",
      "           1       1.00      1.00      1.00        52\n",
      "\n",
      "    accuracy                           1.00        80\n",
      "   macro avg       1.00      1.00      1.00        80\n",
      "weighted avg       1.00      1.00      1.00        80\n",
      "\n"
     ]
    }
   ],
   "source": [
    "# Train a Naive Bayes Classifier\n",
    "nb_classifier = GaussianNB()\n",
    "nb_classifier.fit(X_train, y_train)\n",
    "y_pred_nb = nb_classifier.predict(X_test)\n",
    "\n",
    "# Evaluate the Naive Bayes model\n",
    "accuracy_nb = accuracy_score(y_test, y_pred_nb)\n",
    "confusion_nb = confusion_matrix(y_test, y_pred_nb)\n",
    "report_nb = classification_report(y_test, y_pred_nb)\n",
    "\n",
    "print(\"Naive Bayes Classifier:\")\n",
    "print(f\"Accuracy: {accuracy_nb:.2f}\")\n",
    "print(\"Confusion Matrix:\")\n",
    "print(confusion_nb)\n",
    "print(\"Classification Report:\")\n",
    "print(report_nb)"
   ]
  },
  {
   "cell_type": "markdown",
   "id": "7b201295",
   "metadata": {
    "papermill": {
     "duration": 0.009247,
     "end_time": "2023-11-02T07:42:40.940321",
     "exception": false,
     "start_time": "2023-11-02T07:42:40.931074",
     "status": "completed"
    },
    "tags": []
   },
   "source": [
    "# **Step 6: Data Visualization**"
   ]
  },
  {
   "cell_type": "code",
   "execution_count": 15,
   "id": "e2c9284d",
   "metadata": {
    "execution": {
     "iopub.execute_input": "2023-11-02T07:42:40.961868Z",
     "iopub.status.busy": "2023-11-02T07:42:40.961413Z",
     "iopub.status.idle": "2023-11-02T07:42:41.516433Z",
     "shell.execute_reply": "2023-11-02T07:42:41.515247Z"
    },
    "papermill": {
     "duration": 0.568627,
     "end_time": "2023-11-02T07:42:41.519328",
     "exception": false,
     "start_time": "2023-11-02T07:42:40.950701",
     "status": "completed"
    },
    "tags": []
   },
   "outputs": [
    {
     "data": {
      "image/png": "[encoded data removed]",
      "text/plain": [
       "<Figure size 800x600 with 2 Axes>"
      ]
     },
     "metadata": {},
     "output_type": "display_data"
    },
    {
     "data": {
      "image/png": "[encoded data removed]",
      "text/plain": [
       "<Figure size 800x600 with 1 Axes>"
      ]
     },
     "metadata": {},
     "output_type": "display_data"
    }
   ],
   "source": [
    "# Confusion Matrix Heatmap for Random Forest Classifier\n",
    "plt.figure(figsize=(8, 6))\n",
    "sns.heatmap(confusion_rf, annot=True, fmt=\"d\", cmap=\"Blues\", linewidths=0.5)\n",
    "plt.xlabel(\"Predicted\")\n",
    "plt.ylabel(\"True\")\n",
    "plt.title(\"Random Forest Classifier Confusion Matrix\")\n",
    "plt.show()\n",
    "\n",
    "# Bar Chart for Accuracy\n",
    "classifiers = [\"Random Forest\", \"SVM\", \"Naive Bayes\"]\n",
    "accuracy_scores = [accuracy_rf, accuracy_svm, accuracy_nb]\n",
    "\n",
    "plt.figure(figsize=(8, 6))\n",
    "plt.bar(classifiers, accuracy_scores, color=['blue', 'green', 'red'])\n",
    "plt.xlabel(\"Classifier\")\n",
    "plt.ylabel(\"Accuracy\")\n",
    "plt.title(\"Accuracy Comparison\")\n",
    "plt.ylim(0, 1)\n",
    "plt.show()\n"
   ]
  },
  {
   "cell_type": "markdown",
   "id": "a1a3ebb0",
   "metadata": {
    "papermill": {
     "duration": 0.009978,
     "end_time": "2023-11-02T07:42:41.539677",
     "exception": false,
     "start_time": "2023-11-02T07:42:41.529699",
     "status": "completed"
    },
    "tags": []
   },
   "source": [
    "#Box-Plot Representation:\n",
    "\n",
    "This code is used to create a set of box plots for each feature in the dataset to visualize the distribution of feature values for each class label (CKD or No CKD).\n"
   ]
  },
  {
   "cell_type": "code",
   "execution_count": 16,
   "id": "ce69cf16",
   "metadata": {
    "execution": {
     "iopub.execute_input": "2023-11-02T07:42:41.562829Z",
     "iopub.status.busy": "2023-11-02T07:42:41.562438Z",
     "iopub.status.idle": "2023-11-02T07:42:44.196997Z",
     "shell.execute_reply": "2023-11-02T07:42:44.195947Z"
    },
    "papermill": {
     "duration": 2.649923,
     "end_time": "2023-11-02T07:42:44.200420",
     "exception": false,
     "start_time": "2023-11-02T07:42:41.550497",
     "status": "completed"
    },
    "tags": []
   },
   "outputs": [
    {
     "data": {
      "image/png": "[encoded data removed]",
      "text/plain": [
       "<Figure size 1500x1000 with 16 Axes>"
      ]
     },
     "metadata": {},
     "output_type": "display_data"
    }
   ],
   "source": [
    "#Box-Plot Representation\n",
    "n_cols = len(df.columns) - 1\n",
    "n_rows = (n_cols - 1) // 4 + 1\n",
    "\n",
    "fig, axes = plt.subplots(nrows=n_rows, ncols=4, figsize=(15,10))\n",
    "\n",
    "for i, column in enumerate(df.columns[:-1]):\n",
    "    sns.boxplot(x='classification', y=column, data=df, ax=axes[i//4,i%4])\n",
    "\n",
    "plt.tight_layout()\n",
    "plt.show()"
   ]
  }
 ],
 "metadata": {
  "kernelspec": {
   "display_name": "Python 3",
   "language": "python",
   "name": "python3"
  },
  "language_info": {
   "codemirror_mode": {
    "name": "ipython",
    "version": 3
   },
   "file_extension": ".py",
   "mimetype": "text/x-python",
   "name": "python",
   "nbconvert_exporter": "python",
   "pygments_lexer": "ipython3",
   "version": "3.10.12"
  },
  "papermill": {
   "default_parameters": {},
   "duration": 11.624481,
   "end_time": "2023-11-02T07:42:44.933386",
   "environment_variables": {},
   "exception": null,
   "input_path": "__notebook__.ipynb",
   "output_path": "__notebook__.ipynb",
   "parameters": {},
   "start_time": "2023-11-02T07:42:33.308905",
   "version": "2.4.0"
  }
 },
 "nbformat": 4,
 "nbformat_minor": 5
}
